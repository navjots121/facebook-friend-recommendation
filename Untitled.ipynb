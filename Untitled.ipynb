{
 "cells": [
  {
   "cell_type": "code",
   "execution_count": 1,
   "id": "cffe4392",
   "metadata": {},
   "outputs": [
    {
     "name": "stderr",
     "output_type": "stream",
     "text": [
      "c:\\users\\hp\\appdata\\local\\programs\\python\\python39\\lib\\site-packages\\scipy\\__init__.py:146: UserWarning: A NumPy version >=1.16.5 and <1.23.0 is required for this version of SciPy (detected version 1.26.4\n",
      "  warnings.warn(f\"A NumPy version >={np_minversion} and <{np_maxversion}\"\n"
     ]
    }
   ],
   "source": [
    "import cv2\n",
    "import numpy as np\n",
    "import torch\n",
    "from deep_sort_realtime.deepsort_tracker import DeepSort\n"
   ]
  },
  {
   "cell_type": "code",
   "execution_count": null,
   "id": "2d2ea4cf",
   "metadata": {},
   "outputs": [],
   "source": []
  },
  {
   "cell_type": "code",
   "execution_count": 2,
   "id": "8064314b",
   "metadata": {},
   "outputs": [],
   "source": [
    "# Load YOLO model with OpenCV\n",
    "net = cv2.dnn.readNetFromDarknet(\"weights/yolov4.cfg\",\"weights/yolov4.weights\")"
   ]
  },
  {
   "cell_type": "code",
   "execution_count": 3,
   "id": "ee772092",
   "metadata": {},
   "outputs": [],
   "source": [
    "with open(\"weights/coco.names\", \"r\") as f:\n",
    "    class_names = f.read().strip().split(\"\\n\")\n",
    "\n",
    "layer_names = net.getLayerNames()\n",
    "output_layers = [layer_names[i - 1] for i in net.getUnconnectedOutLayers()]\n",
    "\n",
    "# Initialize DeepSORT from pip\n",
    "tracker = DeepSort(max_age=30, n_init=3, nms_max_overlap=1.0)\n"
   ]
  },
  {
   "cell_type": "code",
   "execution_count": 4,
   "id": "d193a2d6",
   "metadata": {},
   "outputs": [
    {
     "name": "stdout",
     "output_type": "stream",
     "text": [
      "Tracking finished. Results saved in tracking_log.txt\n"
     ]
    }
   ],
   "source": [
    "import time\n",
    "tracking_data = {}\n",
    "\n",
    "# Open webcam (device index 0)\n",
    "cap = cv2.VideoCapture(0)\n",
    "\n",
    "if not cap.isOpened():\n",
    "    print(\"Error: Could not open webcam\")\n",
    "    exit()\n",
    "\n",
    "# Open file for logging tracking data\n",
    "output_file = \"tracking_log.txt\"\n",
    "\n",
    "# Run for 10 seconds\n",
    "start_time = time.time()\n",
    "while time.time() - start_time < 10:\n",
    "    ret, frame = cap.read()\n",
    "    if not ret:\n",
    "        break\n",
    "\n",
    "    current_time = time.strftime(\"%Y-%m-%d %H:%M:%S\", time.localtime())\n",
    "\n",
    "    height, width = frame.shape[:2]\n",
    "\n",
    "    # Prepare frame for YOLO\n",
    "    blob = cv2.dnn.blobFromImage(frame, 1 / 255.0, (416, 416), swapRB=True, crop=False)\n",
    "    net.setInput(blob)\n",
    "\n",
    "    # Forward pass\n",
    "    layer_outputs = net.forward(output_layers)\n",
    "\n",
    "    # Extract detections\n",
    "    boxes, confidences, class_ids = [], [], []\n",
    "    for output in layer_outputs:\n",
    "        for detection in output:\n",
    "            scores = detection[5:]\n",
    "            class_id = np.argmax(scores)\n",
    "            confidence = scores[class_id]\n",
    "\n",
    "            if confidence > 0.5:  # Detection threshold\n",
    "                center_x, center_y, w, h = (detection[:4] * np.array([width, height, width, height])).astype(\"int\")\n",
    "                x, y = int(center_x - w / 2), int(center_y - h / 2)\n",
    "\n",
    "                boxes.append([x, y, w, h])\n",
    "                confidences.append(float(confidence))\n",
    "                class_ids.append(class_id)\n",
    "\n",
    "    # Apply Non-Maximum Suppression (NMS) with stricter threshold (0.3)\n",
    "    indices = cv2.dnn.NMSBoxes(boxes, confidences, score_threshold=0.5, nms_threshold=0.3)\n",
    "    detections_to_track = []\n",
    "\n",
    "    if len(indices) > 0:\n",
    "        for i in indices.flatten():\n",
    "            x, y, w, h = boxes[i]\n",
    "            detections_to_track.append(([x, y, x + w, y + h], confidences[i], class_ids[i]))\n",
    "\n",
    "    # DeepSORT tracking\n",
    "    tracks = tracker.update_tracks(detections_to_track, frame=frame)\n",
    "\n",
    "    # Update tracking dictionary\n",
    "    for track in tracks:\n",
    "        if not track.is_confirmed():\n",
    "            continue\n",
    "        track_id = track.track_id\n",
    "        class_name = class_names[track.det_class] if track.det_class is not None else \"Unknown\"\n",
    "        obj_key = (track_id, class_name)  # Unique key for each object-class combination\n",
    "\n",
    "        # If first time seeing the object, store first seen time\n",
    "        if obj_key not in tracking_data:\n",
    "            tracking_data[obj_key] = {\"first_seen\": current_time, \"last_seen\": current_time}\n",
    "        else:\n",
    "            tracking_data[obj_key][\"last_seen\"] = current_time\n",
    "\n",
    "        # Draw bounding box\n",
    "        x1, y1, x2, y2 = map(int, track.to_tlbr())\n",
    "        cv2.rectangle(frame, (x1, y1), (x2, y2), (0, 255, 0), 2)\n",
    "        cv2.putText(frame, f\"ID: {track_id} {class_name}\", (x1, y1 - 5),\n",
    "                    cv2.FONT_HERSHEY_SIMPLEX, 0.5, (255, 0, 0), 2)\n",
    "\n",
    "    # Display frame\n",
    "    cv2.imshow(\"YOLOv4 + DeepSORT Tracking\", frame)\n",
    "    if cv2.waitKey(1) & 0xFF == ord(\"q\"):\n",
    "        break\n",
    "\n",
    "# Write unique tracking data to file\n",
    "with open(output_file, \"w\") as f:\n",
    "    f.write(\"ID,Class Name,Time of Appearance,Time Last Seen\\n\")\n",
    "    for (track_id, class_name), times in tracking_data.items():\n",
    "        f.write(f\"{track_id},{class_name},{times['first_seen']},{times['last_seen']}\\n\")\n",
    "\n",
    "# Release webcam and close windows\n",
    "cap.release()\n",
    "cv2.destroyAllWindows()\n",
    "print(f\"Tracking finished. Results saved in {output_file}\")"
   ]
  },
  {
   "cell_type": "code",
   "execution_count": null,
   "id": "d27517a7",
   "metadata": {},
   "outputs": [],
   "source": []
  },
  {
   "cell_type": "code",
   "execution_count": null,
   "id": "6fd41e36",
   "metadata": {},
   "outputs": [],
   "source": []
  },
  {
   "cell_type": "code",
   "execution_count": null,
   "id": "d3c9595a",
   "metadata": {},
   "outputs": [],
   "source": []
  },
  {
   "cell_type": "code",
   "execution_count": null,
   "id": "9e8ffe45",
   "metadata": {},
   "outputs": [],
   "source": []
  },
  {
   "cell_type": "code",
   "execution_count": null,
   "id": "ffeb85b7",
   "metadata": {},
   "outputs": [],
   "source": []
  },
  {
   "cell_type": "code",
   "execution_count": null,
   "id": "5d6e2844",
   "metadata": {},
   "outputs": [],
   "source": []
  }
 ],
 "metadata": {
  "kernelspec": {
   "display_name": "Python 3 (ipykernel)",
   "language": "python",
   "name": "python3"
  },
  "language_info": {
   "codemirror_mode": {
    "name": "ipython",
    "version": 3
   },
   "file_extension": ".py",
   "mimetype": "text/x-python",
   "name": "python",
   "nbconvert_exporter": "python",
   "pygments_lexer": "ipython3",
   "version": "3.9.6"
  }
 },
 "nbformat": 4,
 "nbformat_minor": 5
}
